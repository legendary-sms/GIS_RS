{
 "cells": [
  {
   "cell_type": "code",
   "execution_count": null,
   "metadata": {},
   "outputs": [],
   "source": [
    "#Build the various Surface Statiscal BRDF models module functions  far using polymorphism\n",
    "#\n",
    "from math import cos, sin, tan, sqrt \n",
    "class Surface_stat_BRDF_model:\n",
    "    def __init__(self):\n",
    "        pass\n",
    "class Minnaert_function(Surface_stat_BRDF_model):\n",
    "    def __init__(self, coeff_rho_not, solar_zenith, sensor_zenith, k):\n",
    "        self.coeff_rho_not=coeff_rho_not\n",
    "        self.solar_zenith=solar_zenith # in radians\n",
    "        self.sensor_zenith=sensor_zenith # in radians \n",
    "        self.k=k #K is a dimensionless unit from 0 to 1 where darker surfaces K=0.5 and incress with brightness\n",
    "    def Minnaert(self):\n",
    "        Minnaert= self.coeff_rho_not/((cos(self.solar_zenith))*cos(self.sensor_zenith)**(self.k-1))\n",
    "        return Minnaert\n",
    "\n",
    "\n"
   ]
  },
  {
   "cell_type": "code",
   "execution_count": null,
   "metadata": {},
   "outputs": [],
   "source": []
  }
 ],
 "metadata": {
  "kernelspec": {
   "display_name": ".venv",
   "language": "python",
   "name": "python3"
  },
  "language_info": {
   "codemirror_mode": {
    "name": "ipython",
    "version": 3
   },
   "file_extension": ".py",
   "mimetype": "text/x-python",
   "name": "python",
   "nbconvert_exporter": "python",
   "pygments_lexer": "ipython3",
   "version": "3.12.9"
  }
 },
 "nbformat": 4,
 "nbformat_minor": 2
}
