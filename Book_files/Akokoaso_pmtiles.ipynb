{
 "cells": [
  {
   "cell_type": "markdown",
   "metadata": {},
   "source": [
    "Creating a map for my hometown (ie. vector map) using pmtiles from [overture](https://explore.overturemaps.org/#13.97/6.14891/-1.05828) \n",
    "\n",
    " "
   ]
  },
  {
   "cell_type": "code",
   "execution_count": 1,
   "metadata": {},
   "outputs": [
    {
     "name": "stdout",
     "output_type": "stream",
     "text": [
      "Index(['id', 'bbox', 'theme', 'type', 'version', 'sources', 'has_parts',\n",
      "       'is_underground', 'geometry'],\n",
      "      dtype='object')\n"
     ]
    }
   ],
   "source": [
    "import geopandas as gpd\n",
    "import pandas as pd\n",
    "import numpy as np\n",
    "data=r'C:\\Users\\ssarf\\Downloads\\Akokoasopmtiles\\overture-building-15.181116902858546-6.150992342594378--1.0573207261074913.geojson'\n",
    "Buildings= gpd.read_file(data)\n",
    "print(Buildings.columns)\n",
    "Buildings=Buildings.drop(columns=['is_underground', 'has_parts', 'sources', 'bbox', 'theme', 'version'])\n"
   ]
  },
  {
   "cell_type": "code",
   "execution_count": 2,
   "metadata": {},
   "outputs": [],
   "source": [
    "Buildings['house_number'] = np.random.randint(1, 3000, size=len(Buildings))"
   ]
  },
  {
   "cell_type": "code",
   "execution_count": 3,
   "metadata": {},
   "outputs": [],
   "source": [
    "Buildings=Buildings.set_index('house_number')\n"
   ]
  },
  {
   "cell_type": "code",
   "execution_count": 4,
   "metadata": {},
   "outputs": [],
   "source": [
    "Buildings=Buildings.drop(columns=['id'])"
   ]
  },
  {
   "cell_type": "code",
   "execution_count": 5,
   "metadata": {},
   "outputs": [
    {
     "data": {
      "text/html": [
       "<div>\n",
       "<style scoped>\n",
       "    .dataframe tbody tr th:only-of-type {\n",
       "        vertical-align: middle;\n",
       "    }\n",
       "\n",
       "    .dataframe tbody tr th {\n",
       "        vertical-align: top;\n",
       "    }\n",
       "\n",
       "    .dataframe thead th {\n",
       "        text-align: right;\n",
       "    }\n",
       "</style>\n",
       "<table border=\"1\" class=\"dataframe\">\n",
       "  <thead>\n",
       "    <tr style=\"text-align: right;\">\n",
       "      <th></th>\n",
       "      <th>type</th>\n",
       "      <th>geometry</th>\n",
       "    </tr>\n",
       "    <tr>\n",
       "      <th>house_number</th>\n",
       "      <th></th>\n",
       "      <th></th>\n",
       "    </tr>\n",
       "  </thead>\n",
       "  <tbody>\n",
       "    <tr>\n",
       "      <th>1609</th>\n",
       "      <td>building</td>\n",
       "      <td>MULTIPOLYGON (((-1.0705 6.14826, -1.07034 6.14...</td>\n",
       "    </tr>\n",
       "    <tr>\n",
       "      <th>2268</th>\n",
       "      <td>building</td>\n",
       "      <td>MULTIPOLYGON (((-1.07015 6.14877, -1.0702 6.14...</td>\n",
       "    </tr>\n",
       "    <tr>\n",
       "      <th>1707</th>\n",
       "      <td>building</td>\n",
       "      <td>MULTIPOLYGON (((-1.07013 6.14882, -1.07018 6.1...</td>\n",
       "    </tr>\n",
       "    <tr>\n",
       "      <th>1554</th>\n",
       "      <td>building</td>\n",
       "      <td>MULTIPOLYGON (((-1.07004 6.14857, -1.07001 6.1...</td>\n",
       "    </tr>\n",
       "    <tr>\n",
       "      <th>1234</th>\n",
       "      <td>building</td>\n",
       "      <td>MULTIPOLYGON (((-1.07001 6.14879, -1.07005 6.1...</td>\n",
       "    </tr>\n",
       "  </tbody>\n",
       "</table>\n",
       "</div>"
      ],
      "text/plain": [
       "                  type                                           geometry\n",
       "house_number                                                             \n",
       "1609          building  MULTIPOLYGON (((-1.0705 6.14826, -1.07034 6.14...\n",
       "2268          building  MULTIPOLYGON (((-1.07015 6.14877, -1.0702 6.14...\n",
       "1707          building  MULTIPOLYGON (((-1.07013 6.14882, -1.07018 6.1...\n",
       "1554          building  MULTIPOLYGON (((-1.07004 6.14857, -1.07001 6.1...\n",
       "1234          building  MULTIPOLYGON (((-1.07001 6.14879, -1.07005 6.1..."
      ]
     },
     "execution_count": 5,
     "metadata": {},
     "output_type": "execute_result"
    }
   ],
   "source": [
    "Buildings.head()"
   ]
  },
  {
   "cell_type": "code",
   "execution_count": 6,
   "metadata": {},
   "outputs": [],
   "source": [
    "# Buildings.explore()"
   ]
  },
  {
   "cell_type": "code",
   "execution_count": 7,
   "metadata": {},
   "outputs": [],
   "source": [
    "import leafmap\n",
    "m= leafmap.Map()\n",
    "data1=r'C:\\Users\\ssarf\\Downloads\\Akokoasopmtiles\\overture-division_area-15.181116902858546-6.150992342594378--1.0573207261074913.geojson'\n",
    "district=gpd.read_file(data1)\n"
   ]
  },
  {
   "cell_type": "code",
   "execution_count": 8,
   "metadata": {},
   "outputs": [],
   "source": [
    "data2=r'C:\\Users\\ssarf\\Downloads\\Akokoasopmtiles\\overture-segment-15.134599619011631-6.149741421902675--1.0565998556730847.geojson'\n",
    "roads=gpd.read_file(data2)"
   ]
  },
  {
   "cell_type": "code",
   "execution_count": 9,
   "metadata": {},
   "outputs": [
    {
     "name": "stdout",
     "output_type": "stream",
     "text": [
      "Index(['id', 'bbox', 'country', 'version', 'sources', 'subtype', 'class',\n",
      "       'names', 'is_land', 'is_territorial', 'region', 'division_id',\n",
      "       'geometry'],\n",
      "      dtype='object')\n",
      "Index(['id', 'bbox', 'theme', 'version', 'sources', 'subtype', 'class',\n",
      "       'connectors', 'road_surface', 'geometry'],\n",
      "      dtype='object')\n"
     ]
    }
   ],
   "source": [
    "print(district.columns)\n",
    "print(roads.columns)"
   ]
  },
  {
   "cell_type": "code",
   "execution_count": 10,
   "metadata": {},
   "outputs": [],
   "source": [
    "district=district.drop(columns=['country', 'version', 'sources', 'bbox', 'version', 'class', 'is_land', 'is_territorial', 'region', 'division_id'])\n",
    "roads=roads.drop(columns=['bbox', 'theme', 'version', 'sources',  'class',\n",
    "       'connectors', 'road_surface'])"
   ]
  },
  {
   "cell_type": "code",
   "execution_count": 11,
   "metadata": {},
   "outputs": [],
   "source": [
    "roads['Roads_id'] = np.random.randint(5000, 5050, size=len(roads))"
   ]
  },
  {
   "cell_type": "code",
   "execution_count": 12,
   "metadata": {},
   "outputs": [],
   "source": [
    "roads=roads.set_index('Roads_id')"
   ]
  },
  {
   "cell_type": "code",
   "execution_count": 13,
   "metadata": {},
   "outputs": [],
   "source": [
    "roads=roads.drop(columns=['id'])"
   ]
  },
  {
   "cell_type": "code",
   "execution_count": 14,
   "metadata": {},
   "outputs": [
    {
     "data": {
      "text/html": [
       "<div>\n",
       "<style scoped>\n",
       "    .dataframe tbody tr th:only-of-type {\n",
       "        vertical-align: middle;\n",
       "    }\n",
       "\n",
       "    .dataframe tbody tr th {\n",
       "        vertical-align: top;\n",
       "    }\n",
       "\n",
       "    .dataframe thead th {\n",
       "        text-align: right;\n",
       "    }\n",
       "</style>\n",
       "<table border=\"1\" class=\"dataframe\">\n",
       "  <thead>\n",
       "    <tr style=\"text-align: right;\">\n",
       "      <th></th>\n",
       "      <th>subtype</th>\n",
       "      <th>geometry</th>\n",
       "    </tr>\n",
       "    <tr>\n",
       "      <th>Roads_id</th>\n",
       "      <th></th>\n",
       "      <th></th>\n",
       "    </tr>\n",
       "  </thead>\n",
       "  <tbody>\n",
       "    <tr>\n",
       "      <th>5011</th>\n",
       "      <td>road</td>\n",
       "      <td>LINESTRING (-1.05812 6.14548, -1.05907 6.14442...</td>\n",
       "    </tr>\n",
       "    <tr>\n",
       "      <th>5041</th>\n",
       "      <td>road</td>\n",
       "      <td>LINESTRING (-1.05998 6.14697, -1.05981 6.14685...</td>\n",
       "    </tr>\n",
       "    <tr>\n",
       "      <th>5005</th>\n",
       "      <td>road</td>\n",
       "      <td>LINESTRING (-1.0592 6.14975, -1.05914 6.14942,...</td>\n",
       "    </tr>\n",
       "    <tr>\n",
       "      <th>5005</th>\n",
       "      <td>road</td>\n",
       "      <td>LINESTRING (-1.05563 6.15172, -1.05535 6.15036...</td>\n",
       "    </tr>\n",
       "    <tr>\n",
       "      <th>5015</th>\n",
       "      <td>road</td>\n",
       "      <td>LINESTRING (-1.11364 6.16799, -1.11332 6.16792...</td>\n",
       "    </tr>\n",
       "  </tbody>\n",
       "</table>\n",
       "</div>"
      ],
      "text/plain": [
       "         subtype                                           geometry\n",
       "Roads_id                                                           \n",
       "5011        road  LINESTRING (-1.05812 6.14548, -1.05907 6.14442...\n",
       "5041        road  LINESTRING (-1.05998 6.14697, -1.05981 6.14685...\n",
       "5005        road  LINESTRING (-1.0592 6.14975, -1.05914 6.14942,...\n",
       "5005        road  LINESTRING (-1.05563 6.15172, -1.05535 6.15036...\n",
       "5015        road  LINESTRING (-1.11364 6.16799, -1.11332 6.16792..."
      ]
     },
     "execution_count": 14,
     "metadata": {},
     "output_type": "execute_result"
    }
   ],
   "source": [
    "\n",
    "roads.head()"
   ]
  },
  {
   "cell_type": "code",
   "execution_count": 15,
   "metadata": {},
   "outputs": [],
   "source": [
    "district=district.iloc[1:2, :]"
   ]
  },
  {
   "cell_type": "code",
   "execution_count": 16,
   "metadata": {},
   "outputs": [],
   "source": [
    "district['subtype'].iloc[0] = 'District'\n",
    "district['names'].iloc[0] = 'Akyemansa District'"
   ]
  },
  {
   "cell_type": "code",
   "execution_count": 17,
   "metadata": {},
   "outputs": [],
   "source": [
    "district['district_index'] = np.random.randint(10000, 20000, size=len(district))\n",
    "district=district.set_index('district_index')\n",
    "district=district.drop(columns=['id'])"
   ]
  },
  {
   "cell_type": "code",
   "execution_count": 18,
   "metadata": {},
   "outputs": [
    {
     "data": {
      "text/html": [
       "<div>\n",
       "<style scoped>\n",
       "    .dataframe tbody tr th:only-of-type {\n",
       "        vertical-align: middle;\n",
       "    }\n",
       "\n",
       "    .dataframe tbody tr th {\n",
       "        vertical-align: top;\n",
       "    }\n",
       "\n",
       "    .dataframe thead th {\n",
       "        text-align: right;\n",
       "    }\n",
       "</style>\n",
       "<table border=\"1\" class=\"dataframe\">\n",
       "  <thead>\n",
       "    <tr style=\"text-align: right;\">\n",
       "      <th></th>\n",
       "      <th>subtype</th>\n",
       "      <th>names</th>\n",
       "      <th>geometry</th>\n",
       "    </tr>\n",
       "    <tr>\n",
       "      <th>district_index</th>\n",
       "      <th></th>\n",
       "      <th></th>\n",
       "      <th></th>\n",
       "    </tr>\n",
       "  </thead>\n",
       "  <tbody>\n",
       "    <tr>\n",
       "      <th>16921</th>\n",
       "      <td>District</td>\n",
       "      <td>Akyemansa District</td>\n",
       "      <td>MULTIPOLYGON (((-0.97368 6.09441, -0.97407 6.0...</td>\n",
       "    </tr>\n",
       "  </tbody>\n",
       "</table>\n",
       "</div>"
      ],
      "text/plain": [
       "                 subtype               names  \\\n",
       "district_index                                 \n",
       "16921           District  Akyemansa District   \n",
       "\n",
       "                                                         geometry  \n",
       "district_index                                                     \n",
       "16921           MULTIPOLYGON (((-0.97368 6.09441, -0.97407 6.0...  "
      ]
     },
     "execution_count": 18,
     "metadata": {},
     "output_type": "execute_result"
    }
   ],
   "source": [
    "district.head()"
   ]
  },
  {
   "cell_type": "code",
   "execution_count": 23,
   "metadata": {},
   "outputs": [],
   "source": [
    "Ak_roads=\"Akokoaso_roads.geojson\"\n",
    "Ak_buildings=\"Akokoaso_buildings.geojson\"\n",
    "Ak_town=\"Ak_town.geojson\"\n",
    "Buildings.to_file(Ak_buildings, driver='GeoJSON')\n",
    "roads.to_file(Ak_roads, driver='GeoJSON')\n",
    "\n"
   ]
  },
  {
   "cell_type": "code",
   "execution_count": 24,
   "metadata": {},
   "outputs": [
    {
     "name": "stdout",
     "output_type": "stream",
     "text": [
      "OpenStreetMap has been already added before.\n"
     ]
    },
    {
     "data": {
      "application/vnd.jupyter.widget-view+json": {
       "model_id": "e04d2915e8784706875979972c9c5e00",
       "version_major": 2,
       "version_minor": 0
      },
      "text/plain": [
       "Map(center=[20, 0], controls=(ZoomControl(options=['position', 'zoom_in_text', 'zoom_in_title', 'zoom_out_text…"
      ]
     },
     "execution_count": 24,
     "metadata": {},
     "output_type": "execute_result"
    }
   ],
   "source": [
    "m=leafmap.Map( zoom=15, layer_control=True, Toolbar=False)\n",
    "m.add_geojson(Ak_buildings, layer_name=\"Akokoaso_buildings\")\n",
    "m.add_geojson(Ak_roads, layer_name=\"Akokoaso_roads\")\n",
    "m.add_geojson(Ak_town, layer_name=\"Akokoaso_Township\", zoom_to_layer=True)\n",
    "m.add_basemap(\"OpenStreetMap\")\n",
    "m"
   ]
  }
 ],
 "metadata": {
  "kernelspec": {
   "display_name": "geo",
   "language": "python",
   "name": "python3"
  },
  "language_info": {
   "codemirror_mode": {
    "name": "ipython",
    "version": 3
   },
   "file_extension": ".py",
   "mimetype": "text/x-python",
   "name": "python",
   "nbconvert_exporter": "python",
   "pygments_lexer": "ipython3",
   "version": "3.11.11"
  }
 },
 "nbformat": 4,
 "nbformat_minor": 2
}
